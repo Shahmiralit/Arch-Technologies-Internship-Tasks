{
 "cells": [
  {
   "cell_type": "markdown",
   "id": "e97cda28-b925-44bd-ae3b-be9e2e4af83e",
   "metadata": {},
   "source": [
    "#    TITANIC SURVIVAL PREDICTION"
   ]
  },
  {
   "cell_type": "markdown",
   "id": "78997ca5-7096-4bd4-8dd8-ad861a944828",
   "metadata": {},
   "source": [
    "# Import And Data Cleaning"
   ]
  },
  {
   "cell_type": "code",
   "execution_count": 4,
   "id": "5f9c42a4-9c17-45c3-a78b-3bc804fac56e",
   "metadata": {},
   "outputs": [
    {
     "data": {
      "text/html": [
       "<div>\n",
       "<style scoped>\n",
       "    .dataframe tbody tr th:only-of-type {\n",
       "        vertical-align: middle;\n",
       "    }\n",
       "\n",
       "    .dataframe tbody tr th {\n",
       "        vertical-align: top;\n",
       "    }\n",
       "\n",
       "    .dataframe thead th {\n",
       "        text-align: right;\n",
       "    }\n",
       "</style>\n",
       "<table border=\"1\" class=\"dataframe\">\n",
       "  <thead>\n",
       "    <tr style=\"text-align: right;\">\n",
       "      <th></th>\n",
       "      <th>PassengerId</th>\n",
       "      <th>Survived</th>\n",
       "      <th>Pclass</th>\n",
       "      <th>Name</th>\n",
       "      <th>Sex</th>\n",
       "      <th>Age</th>\n",
       "      <th>SibSp</th>\n",
       "      <th>Parch</th>\n",
       "      <th>Ticket</th>\n",
       "      <th>Fare</th>\n",
       "      <th>Cabin</th>\n",
       "      <th>Embarked</th>\n",
       "    </tr>\n",
       "  </thead>\n",
       "  <tbody>\n",
       "    <tr>\n",
       "      <th>0</th>\n",
       "      <td>1</td>\n",
       "      <td>0</td>\n",
       "      <td>3</td>\n",
       "      <td>Braund, Mr. Owen Harris</td>\n",
       "      <td>male</td>\n",
       "      <td>22.0</td>\n",
       "      <td>1</td>\n",
       "      <td>0</td>\n",
       "      <td>A/5 21171</td>\n",
       "      <td>7.2500</td>\n",
       "      <td>NaN</td>\n",
       "      <td>S</td>\n",
       "    </tr>\n",
       "    <tr>\n",
       "      <th>1</th>\n",
       "      <td>2</td>\n",
       "      <td>1</td>\n",
       "      <td>1</td>\n",
       "      <td>Cumings, Mrs. John Bradley (Florence Briggs Th...</td>\n",
       "      <td>female</td>\n",
       "      <td>38.0</td>\n",
       "      <td>1</td>\n",
       "      <td>0</td>\n",
       "      <td>PC 17599</td>\n",
       "      <td>71.2833</td>\n",
       "      <td>C85</td>\n",
       "      <td>C</td>\n",
       "    </tr>\n",
       "    <tr>\n",
       "      <th>2</th>\n",
       "      <td>3</td>\n",
       "      <td>1</td>\n",
       "      <td>3</td>\n",
       "      <td>Heikkinen, Miss. Laina</td>\n",
       "      <td>female</td>\n",
       "      <td>26.0</td>\n",
       "      <td>0</td>\n",
       "      <td>0</td>\n",
       "      <td>STON/O2. 3101282</td>\n",
       "      <td>7.9250</td>\n",
       "      <td>NaN</td>\n",
       "      <td>S</td>\n",
       "    </tr>\n",
       "    <tr>\n",
       "      <th>3</th>\n",
       "      <td>4</td>\n",
       "      <td>1</td>\n",
       "      <td>1</td>\n",
       "      <td>Futrelle, Mrs. Jacques Heath (Lily May Peel)</td>\n",
       "      <td>female</td>\n",
       "      <td>35.0</td>\n",
       "      <td>1</td>\n",
       "      <td>0</td>\n",
       "      <td>113803</td>\n",
       "      <td>53.1000</td>\n",
       "      <td>C123</td>\n",
       "      <td>S</td>\n",
       "    </tr>\n",
       "    <tr>\n",
       "      <th>4</th>\n",
       "      <td>5</td>\n",
       "      <td>0</td>\n",
       "      <td>3</td>\n",
       "      <td>Allen, Mr. William Henry</td>\n",
       "      <td>male</td>\n",
       "      <td>35.0</td>\n",
       "      <td>0</td>\n",
       "      <td>0</td>\n",
       "      <td>373450</td>\n",
       "      <td>8.0500</td>\n",
       "      <td>NaN</td>\n",
       "      <td>S</td>\n",
       "    </tr>\n",
       "  </tbody>\n",
       "</table>\n",
       "</div>"
      ],
      "text/plain": [
       "   PassengerId  Survived  Pclass  \\\n",
       "0            1         0       3   \n",
       "1            2         1       1   \n",
       "2            3         1       3   \n",
       "3            4         1       1   \n",
       "4            5         0       3   \n",
       "\n",
       "                                                Name     Sex   Age  SibSp  \\\n",
       "0                            Braund, Mr. Owen Harris    male  22.0      1   \n",
       "1  Cumings, Mrs. John Bradley (Florence Briggs Th...  female  38.0      1   \n",
       "2                             Heikkinen, Miss. Laina  female  26.0      0   \n",
       "3       Futrelle, Mrs. Jacques Heath (Lily May Peel)  female  35.0      1   \n",
       "4                           Allen, Mr. William Henry    male  35.0      0   \n",
       "\n",
       "   Parch            Ticket     Fare Cabin Embarked  \n",
       "0      0         A/5 21171   7.2500   NaN        S  \n",
       "1      0          PC 17599  71.2833   C85        C  \n",
       "2      0  STON/O2. 3101282   7.9250   NaN        S  \n",
       "3      0            113803  53.1000  C123        S  \n",
       "4      0            373450   8.0500   NaN        S  "
      ]
     },
     "execution_count": 4,
     "metadata": {},
     "output_type": "execute_result"
    }
   ],
   "source": [
    "import pandas as pd\n",
    "import seaborn as sns\n",
    "train_df = pd.read_csv(\"C:/Users/shahm/.ipynb_checkpoints/train.csv\")\n",
    "test_df = pd.read_csv(\"C:/Users/shahm/.ipynb_checkpoints/test.csv\")\n",
    "train_df.head()     "
   ]
  },
  {
   "cell_type": "markdown",
   "id": "8f2bd342-ed6c-485b-a1d4-3e8476b71c90",
   "metadata": {},
   "source": [
    "# Data Overview "
   ]
  },
  {
   "cell_type": "code",
   "execution_count": 5,
   "id": "12077ec7-e5ef-4925-8860-0292744375e7",
   "metadata": {},
   "outputs": [
    {
     "name": "stdout",
     "output_type": "stream",
     "text": [
      "<class 'pandas.core.frame.DataFrame'>\n",
      "RangeIndex: 891 entries, 0 to 890\n",
      "Data columns (total 12 columns):\n",
      " #   Column       Non-Null Count  Dtype  \n",
      "---  ------       --------------  -----  \n",
      " 0   PassengerId  891 non-null    int64  \n",
      " 1   Survived     891 non-null    int64  \n",
      " 2   Pclass       891 non-null    int64  \n",
      " 3   Name         891 non-null    object \n",
      " 4   Sex          891 non-null    object \n",
      " 5   Age          714 non-null    float64\n",
      " 6   SibSp        891 non-null    int64  \n",
      " 7   Parch        891 non-null    int64  \n",
      " 8   Ticket       891 non-null    object \n",
      " 9   Fare         891 non-null    float64\n",
      " 10  Cabin        204 non-null    object \n",
      " 11  Embarked     889 non-null    object \n",
      "dtypes: float64(2), int64(5), object(5)\n",
      "memory usage: 83.7+ KB\n"
     ]
    }
   ],
   "source": [
    "train_df.info()"
   ]
  },
  {
   "cell_type": "markdown",
   "id": "12a941c3-92d5-4342-95e3-94fd438265d2",
   "metadata": {},
   "source": [
    "# Feature Engineering & EDA"
   ]
  },
  {
   "cell_type": "code",
   "execution_count": 6,
   "id": "192c2701-485f-459a-8898-58b8bdedea28",
   "metadata": {},
   "outputs": [
    {
     "data": {
      "text/html": [
       "<div>\n",
       "<style scoped>\n",
       "    .dataframe tbody tr th:only-of-type {\n",
       "        vertical-align: middle;\n",
       "    }\n",
       "\n",
       "    .dataframe tbody tr th {\n",
       "        vertical-align: top;\n",
       "    }\n",
       "\n",
       "    .dataframe thead th {\n",
       "        text-align: right;\n",
       "    }\n",
       "</style>\n",
       "<table border=\"1\" class=\"dataframe\">\n",
       "  <thead>\n",
       "    <tr style=\"text-align: right;\">\n",
       "      <th></th>\n",
       "      <th>FamilySize</th>\n",
       "      <th>count</th>\n",
       "      <th>mean</th>\n",
       "    </tr>\n",
       "  </thead>\n",
       "  <tbody>\n",
       "    <tr>\n",
       "      <th>0</th>\n",
       "      <td>1</td>\n",
       "      <td>537</td>\n",
       "      <td>0.303538</td>\n",
       "    </tr>\n",
       "    <tr>\n",
       "      <th>1</th>\n",
       "      <td>2</td>\n",
       "      <td>161</td>\n",
       "      <td>0.552795</td>\n",
       "    </tr>\n",
       "    <tr>\n",
       "      <th>2</th>\n",
       "      <td>3</td>\n",
       "      <td>102</td>\n",
       "      <td>0.578431</td>\n",
       "    </tr>\n",
       "    <tr>\n",
       "      <th>3</th>\n",
       "      <td>4</td>\n",
       "      <td>29</td>\n",
       "      <td>0.724138</td>\n",
       "    </tr>\n",
       "    <tr>\n",
       "      <th>4</th>\n",
       "      <td>5</td>\n",
       "      <td>15</td>\n",
       "      <td>0.200000</td>\n",
       "    </tr>\n",
       "    <tr>\n",
       "      <th>5</th>\n",
       "      <td>6</td>\n",
       "      <td>22</td>\n",
       "      <td>0.136364</td>\n",
       "    </tr>\n",
       "    <tr>\n",
       "      <th>6</th>\n",
       "      <td>7</td>\n",
       "      <td>12</td>\n",
       "      <td>0.333333</td>\n",
       "    </tr>\n",
       "    <tr>\n",
       "      <th>7</th>\n",
       "      <td>8</td>\n",
       "      <td>6</td>\n",
       "      <td>0.000000</td>\n",
       "    </tr>\n",
       "    <tr>\n",
       "      <th>8</th>\n",
       "      <td>11</td>\n",
       "      <td>7</td>\n",
       "      <td>0.000000</td>\n",
       "    </tr>\n",
       "  </tbody>\n",
       "</table>\n",
       "</div>"
      ],
      "text/plain": [
       "   FamilySize  count      mean\n",
       "0           1    537  0.303538\n",
       "1           2    161  0.552795\n",
       "2           3    102  0.578431\n",
       "3           4     29  0.724138\n",
       "4           5     15  0.200000\n",
       "5           6     22  0.136364\n",
       "6           7     12  0.333333\n",
       "7           8      6  0.000000\n",
       "8          11      7  0.000000"
      ]
     },
     "execution_count": 6,
     "metadata": {},
     "output_type": "execute_result"
    }
   ],
   "source": [
    "train_df[\"FamilySize\"] = train_df[\"SibSp\"] + train_df[\"Parch\"] + 1\n",
    "test_df[\"FamilySize\"] = test_df[\"SibSp\"] + test_df[\"Parch\"] + 1\n",
    "train_df.groupby(['FamilySize'], as_index=False)['Survived'].agg([\"count\", \"mean\"])"
   ]
  },
  {
   "cell_type": "code",
   "execution_count": 7,
   "id": "c5ed5a00-5ff9-4362-9183-ebf1a100aad5",
   "metadata": {},
   "outputs": [
    {
     "name": "stderr",
     "output_type": "stream",
     "text": [
      "C:\\Users\\shahm\\AppData\\Local\\Temp\\ipykernel_5608\\1988109138.py:3: FutureWarning: The default of observed=False is deprecated and will be changed to True in a future version of pandas. Pass observed=False to retain current behavior or observed=True to adopt the future default and silence this warning.\n",
      "  train_df.groupby(['Fam_type'], as_index=False)['Survived'].agg(['count','mean'])\n"
     ]
    },
    {
     "data": {
      "text/html": [
       "<div>\n",
       "<style scoped>\n",
       "    .dataframe tbody tr th:only-of-type {\n",
       "        vertical-align: middle;\n",
       "    }\n",
       "\n",
       "    .dataframe tbody tr th {\n",
       "        vertical-align: top;\n",
       "    }\n",
       "\n",
       "    .dataframe thead th {\n",
       "        text-align: right;\n",
       "    }\n",
       "</style>\n",
       "<table border=\"1\" class=\"dataframe\">\n",
       "  <thead>\n",
       "    <tr style=\"text-align: right;\">\n",
       "      <th></th>\n",
       "      <th>Fam_type</th>\n",
       "      <th>count</th>\n",
       "      <th>mean</th>\n",
       "    </tr>\n",
       "  </thead>\n",
       "  <tbody>\n",
       "    <tr>\n",
       "      <th>0</th>\n",
       "      <td>Solo</td>\n",
       "      <td>537</td>\n",
       "      <td>0.303538</td>\n",
       "    </tr>\n",
       "    <tr>\n",
       "      <th>1</th>\n",
       "      <td>Small</td>\n",
       "      <td>292</td>\n",
       "      <td>0.578767</td>\n",
       "    </tr>\n",
       "    <tr>\n",
       "      <th>2</th>\n",
       "      <td>Medium</td>\n",
       "      <td>49</td>\n",
       "      <td>0.204082</td>\n",
       "    </tr>\n",
       "    <tr>\n",
       "      <th>3</th>\n",
       "      <td>Big</td>\n",
       "      <td>13</td>\n",
       "      <td>0.000000</td>\n",
       "    </tr>\n",
       "  </tbody>\n",
       "</table>\n",
       "</div>"
      ],
      "text/plain": [
       "  Fam_type  count      mean\n",
       "0     Solo    537  0.303538\n",
       "1    Small    292  0.578767\n",
       "2   Medium     49  0.204082\n",
       "3      Big     13  0.000000"
      ]
     },
     "execution_count": 7,
     "metadata": {},
     "output_type": "execute_result"
    }
   ],
   "source": [
    "train_df ['Fam_type'] = pd.cut(train_df.FamilySize, [0,1,4,7,11], labels=['Solo', 'Small', \"Medium\", 'Big'])\n",
    "test_df ['Fam_type'] = pd.cut(test_df.FamilySize, [0,1,4,7,11], labels=['Solo', 'Small', \"Medium\", 'Big'])\n",
    "train_df.groupby(['Fam_type'], as_index=False)['Survived'].agg(['count','mean'])"
   ]
  },
  {
   "cell_type": "code",
   "execution_count": 8,
   "id": "4719e7d7-7a6c-4e18-aea9-362c3e6d654b",
   "metadata": {},
   "outputs": [
    {
     "data": {
      "text/plain": [
       "<seaborn.axisgrid.FacetGrid at 0x1e5cf977890>"
      ]
     },
     "execution_count": 8,
     "metadata": {},
     "output_type": "execute_result"
    },
    {
     "data": {
      "image/png": "[encoded data removed]",
      "text/plain": [
       "<Figure size 572.111x500 with 1 Axes>"
      ]
     },
     "metadata": {},
     "output_type": "display_data"
    },
    {
     "data": {
      "image/png": "[encoded data removed]",
      "text/plain": [
       "<Figure size 572.111x500 with 1 Axes>"
      ]
     },
     "metadata": {},
     "output_type": "display_data"
    }
   ],
   "source": [
    "train_df['Age'] = train_df.groupby(['Sex', 'Pclass'])['Age'].transform(lambda x: x.fillna(x.median()))\n",
    "test_df['Age'] = test_df.groupby(['Sex', 'Pclass'])['Age'].transform(lambda x: x.fillna(x.median()))\n",
    "\n",
    "sns.displot(train_df, x='Age', hue='Survived', binwidth=17, height=5, multiple='stack', stat='percent')\n",
    "sns.displot(train_df, x='Age', hue='Survived', binwidth=17, height=5, multiple='fill', stat='percent')"
   ]
  },
  {
   "cell_type": "code",
   "execution_count": 9,
   "id": "11155a53-4d07-4b66-bd12-7b5e325d7dfb",
   "metadata": {},
   "outputs": [],
   "source": [
    "def encodeAge(train):\n",
    "    train.loc[train_df['Age'] <=17, 'Age'] = 0\n",
    "    train.loc[(train_df['Age'] > 17) & (train_df['Age'] <= 32), 'Age'] = 1\n",
    "    train.loc[(train_df['Age'] > 32) & (train_df['Age'] <= 48), 'Age'] = 2\n",
    "    train.loc[(train_df['Age'] > 48) & (train_df['Age'] <= 64), 'Age'] = 3\n",
    "    train.loc[(train_df['Age'] > 64) & (train_df['Age'] <= 80), 'Age'] = 4\n",
    "\n",
    "encodeAge(train_df)\n",
    "\n",
    "def encodeAge(test):\n",
    "    test.loc[train_df['Age'] <=17, 'Age'] = 0\n",
    "    test.loc[(train_df['Age'] > 17) & (train_df['Age'] <= 32), 'Age'] = 1\n",
    "    test.loc[(train_df['Age'] > 32) & (train_df['Age'] <= 48), 'Age'] = 2\n",
    "    test.loc[(train_df['Age'] > 48) & (train_df['Age'] <= 64), 'Age'] = 3\n",
    "    test.loc[(train_df['Age'] > 64) & (train_df['Age'] <= 80), 'Age'] = 4\n",
    "\n",
    "encodeAge(test_df)"
   ]
  },
  {
   "cell_type": "code",
   "execution_count": 10,
   "id": "849b1caf-0b0c-497d-ab9e-b1a295cc72b6",
   "metadata": {},
   "outputs": [
    {
     "data": {
      "text/html": [
       "<div>\n",
       "<style scoped>\n",
       "    .dataframe tbody tr th:only-of-type {\n",
       "        vertical-align: middle;\n",
       "    }\n",
       "\n",
       "    .dataframe tbody tr th {\n",
       "        vertical-align: top;\n",
       "    }\n",
       "\n",
       "    .dataframe thead th {\n",
       "        text-align: right;\n",
       "    }\n",
       "</style>\n",
       "<table border=\"1\" class=\"dataframe\">\n",
       "  <thead>\n",
       "    <tr style=\"text-align: right;\">\n",
       "      <th></th>\n",
       "      <th>Age</th>\n",
       "      <th>Survived</th>\n",
       "    </tr>\n",
       "  </thead>\n",
       "  <tbody>\n",
       "    <tr>\n",
       "      <th>0</th>\n",
       "      <td>0.0</td>\n",
       "      <td>0.539823</td>\n",
       "    </tr>\n",
       "    <tr>\n",
       "      <th>1</th>\n",
       "      <td>1.0</td>\n",
       "      <td>0.333333</td>\n",
       "    </tr>\n",
       "    <tr>\n",
       "      <th>2</th>\n",
       "      <td>2.0</td>\n",
       "      <td>0.412844</td>\n",
       "    </tr>\n",
       "    <tr>\n",
       "      <th>3</th>\n",
       "      <td>3.0</td>\n",
       "      <td>0.434783</td>\n",
       "    </tr>\n",
       "    <tr>\n",
       "      <th>4</th>\n",
       "      <td>4.0</td>\n",
       "      <td>0.090909</td>\n",
       "    </tr>\n",
       "  </tbody>\n",
       "</table>\n",
       "</div>"
      ],
      "text/plain": [
       "   Age  Survived\n",
       "0  0.0  0.539823\n",
       "1  1.0  0.333333\n",
       "2  2.0  0.412844\n",
       "3  3.0  0.434783\n",
       "4  4.0  0.090909"
      ]
     },
     "execution_count": 10,
     "metadata": {},
     "output_type": "execute_result"
    }
   ],
   "source": [
    "train_df.groupby(['Age'], as_index=False)['Survived'].mean()"
   ]
  },
  {
   "cell_type": "code",
   "execution_count": 11,
   "id": "ad43d568-9ccf-4d78-9bd0-5d6701c1d789",
   "metadata": {},
   "outputs": [
    {
     "data": {
      "text/plain": [
       "<seaborn.axisgrid.FacetGrid at 0x1e5d1bfa850>"
      ]
     },
     "execution_count": 11,
     "metadata": {},
     "output_type": "execute_result"
    },
    {
     "data": {
      "image/png": "[encoded data removed]",
      "text/plain": [
       "<Figure size 572.111x500 with 1 Axes>"
      ]
     },
     "metadata": {},
     "output_type": "display_data"
    },
    {
     "data": {
      "image/png": "[encoded data removed]",
      "text/plain": [
       "<Figure size 572.111x500 with 1 Axes>"
      ]
     },
     "metadata": {},
     "output_type": "display_data"
    }
   ],
   "source": [
    "sns.displot(train_df, x='Fare', hue='Survived' , binwidth=7, height=5,multiple='stack', stat='percent')\n",
    "sns.displot(train_df, x='Fare', hue='Survived' , binwidth=7, height=5,multiple='fill', stat='percent')"
   ]
  },
  {
   "cell_type": "code",
   "execution_count": 12,
   "id": "930f13d9-63e3-4a8e-9ab0-9b60e8b310cb",
   "metadata": {},
   "outputs": [],
   "source": [
    "def encodeAge(train):\n",
    "    train.loc[train_df['Fare'] <= 7, 'Fare'] = 0\n",
    "    train.loc[(train_df['Fare'] > 7) & (train_df['Fare'] <= 14), 'Fare'] = 1\n",
    "    train.loc[(train_df['Fare'] > 14) & (train_df['Fare'] <= 42.0), 'Fare'] = 2\n",
    "    train.loc[(train_df['Fare'] > 42.0) & (train_df['Fare'] <= 512.329), 'Fare'] = 3\n",
    "  \n",
    "\n",
    "encodeAge(train_df)\n",
    "\n",
    "def encodeAge(test):\n",
    "    test.loc[train_df['Fare'] <= 7, 'Fare'] = 0\n",
    "    test.loc[(train_df['Fare'] > 7) & (train_df['Age'] <= 14), 'Fare'] = 1\n",
    "    test.loc[(train_df['Fare'] > 14) & (train_df['Age'] <= 42.0), 'Fare'] = 2\n",
    "    test.loc[(train_df['Fare'] >  42.0) & (train_df['Age'] <= 512.329), 'Fare'] = 3\n",
    "   \n",
    "\n",
    "encodeAge(test_df)"
   ]
  },
  {
   "cell_type": "code",
   "execution_count": 13,
   "id": "d185afbb-e7ae-41c0-a674-bf8c8feb1f6c",
   "metadata": {
    "jupyter": {
     "source_hidden": true
    },
    "scrolled": true
   },
   "outputs": [
    {
     "data": {
      "text/html": [
       "<div>\n",
       "<style scoped>\n",
       "    .dataframe tbody tr th:only-of-type {\n",
       "        vertical-align: middle;\n",
       "    }\n",
       "\n",
       "    .dataframe tbody tr th {\n",
       "        vertical-align: top;\n",
       "    }\n",
       "\n",
       "    .dataframe thead th {\n",
       "        text-align: right;\n",
       "    }\n",
       "</style>\n",
       "<table border=\"1\" class=\"dataframe\">\n",
       "  <thead>\n",
       "    <tr style=\"text-align: right;\">\n",
       "      <th></th>\n",
       "      <th>Fare</th>\n",
       "      <th>count</th>\n",
       "      <th>mean</th>\n",
       "    </tr>\n",
       "  </thead>\n",
       "  <tbody>\n",
       "    <tr>\n",
       "      <th>0</th>\n",
       "      <td>0.0000</td>\n",
       "      <td>28</td>\n",
       "      <td>0.071429</td>\n",
       "    </tr>\n",
       "    <tr>\n",
       "      <th>1</th>\n",
       "      <td>1.0000</td>\n",
       "      <td>409</td>\n",
       "      <td>0.266504</td>\n",
       "    </tr>\n",
       "    <tr>\n",
       "      <th>2</th>\n",
       "      <td>2.0000</td>\n",
       "      <td>282</td>\n",
       "      <td>0.425532</td>\n",
       "    </tr>\n",
       "    <tr>\n",
       "      <th>3</th>\n",
       "      <td>3.0000</td>\n",
       "      <td>169</td>\n",
       "      <td>0.639053</td>\n",
       "    </tr>\n",
       "    <tr>\n",
       "      <th>4</th>\n",
       "      <td>512.3292</td>\n",
       "      <td>3</td>\n",
       "      <td>1.000000</td>\n",
       "    </tr>\n",
       "  </tbody>\n",
       "</table>\n",
       "</div>"
      ],
      "text/plain": [
       "       Fare  count      mean\n",
       "0    0.0000     28  0.071429\n",
       "1    1.0000    409  0.266504\n",
       "2    2.0000    282  0.425532\n",
       "3    3.0000    169  0.639053\n",
       "4  512.3292      3  1.000000"
      ]
     },
     "execution_count": 13,
     "metadata": {},
     "output_type": "execute_result"
    }
   ],
   "source": [
    "train_df.groupby(['Fare'], as_index=False)['Survived'].agg(['count','mean'])"
   ]
  },
  {
   "cell_type": "markdown",
   "id": "029c833f-4e7c-4998-b985-7098ac287a71",
   "metadata": {},
   "source": [
    "# Feature Extraction & Standardization"
   ]
  },
  {
   "cell_type": "code",
   "execution_count": 16,
   "id": "90b2c323-b06b-4ab1-bb89-b92bd223f7d5",
   "metadata": {},
   "outputs": [],
   "source": [
    "train_df['Titile'] = train_df['Name'].str.split(pat= \",\", expand=True)[1].str.split(pat=\".\", expand=True)[0].apply(lambda x: x.strip())\n",
    "test_df['Titile'] = test_df['Name'].str.split(pat= \",\", expand=True)[1].str.split(pat=\".\", expand=True)[0].apply(lambda x: x.strip())\n"
   ]
  },
  {
   "cell_type": "code",
   "execution_count": 17,
   "id": "53743498-b8ee-494e-ba0a-f14bdd798a40",
   "metadata": {},
   "outputs": [
    {
     "data": {
      "text/html": [
       "<div>\n",
       "<style scoped>\n",
       "    .dataframe tbody tr th:only-of-type {\n",
       "        vertical-align: middle;\n",
       "    }\n",
       "\n",
       "    .dataframe tbody tr th {\n",
       "        vertical-align: top;\n",
       "    }\n",
       "\n",
       "    .dataframe thead th {\n",
       "        text-align: right;\n",
       "    }\n",
       "</style>\n",
       "<table border=\"1\" class=\"dataframe\">\n",
       "  <thead>\n",
       "    <tr style=\"text-align: right;\">\n",
       "      <th></th>\n",
       "      <th>Title</th>\n",
       "      <th>count</th>\n",
       "      <th>mean</th>\n",
       "    </tr>\n",
       "  </thead>\n",
       "  <tbody>\n",
       "    <tr>\n",
       "      <th>0</th>\n",
       "      <td>Capt. Edward Gifford</td>\n",
       "      <td>1</td>\n",
       "      <td>0.0</td>\n",
       "    </tr>\n",
       "    <tr>\n",
       "      <th>1</th>\n",
       "      <td>Col. John</td>\n",
       "      <td>1</td>\n",
       "      <td>0.0</td>\n",
       "    </tr>\n",
       "    <tr>\n",
       "      <th>2</th>\n",
       "      <td>Col. Oberst Alfons</td>\n",
       "      <td>1</td>\n",
       "      <td>1.0</td>\n",
       "    </tr>\n",
       "    <tr>\n",
       "      <th>3</th>\n",
       "      <td>Don. Manuel E</td>\n",
       "      <td>1</td>\n",
       "      <td>0.0</td>\n",
       "    </tr>\n",
       "    <tr>\n",
       "      <th>4</th>\n",
       "      <td>Dr. Alfred</td>\n",
       "      <td>1</td>\n",
       "      <td>0.0</td>\n",
       "    </tr>\n",
       "    <tr>\n",
       "      <th>...</th>\n",
       "      <td>...</td>\n",
       "      <td>...</td>\n",
       "      <td>...</td>\n",
       "    </tr>\n",
       "    <tr>\n",
       "      <th>798</th>\n",
       "      <td>Rev. Juozas</td>\n",
       "      <td>1</td>\n",
       "      <td>0.0</td>\n",
       "    </tr>\n",
       "    <tr>\n",
       "      <th>799</th>\n",
       "      <td>Rev. Robert James</td>\n",
       "      <td>1</td>\n",
       "      <td>0.0</td>\n",
       "    </tr>\n",
       "    <tr>\n",
       "      <th>800</th>\n",
       "      <td>Rev. Thomas Roussel Davids</td>\n",
       "      <td>1</td>\n",
       "      <td>0.0</td>\n",
       "    </tr>\n",
       "    <tr>\n",
       "      <th>801</th>\n",
       "      <td>Sir. Cosmo Edmund (\"Mr Morgan\")</td>\n",
       "      <td>1</td>\n",
       "      <td>1.0</td>\n",
       "    </tr>\n",
       "    <tr>\n",
       "      <th>802</th>\n",
       "      <td>the Countess. of (Lucy Noel Martha Dyer-Edwards)</td>\n",
       "      <td>1</td>\n",
       "      <td>1.0</td>\n",
       "    </tr>\n",
       "  </tbody>\n",
       "</table>\n",
       "<p>803 rows × 3 columns</p>\n",
       "</div>"
      ],
      "text/plain": [
       "                                                Title  count  mean\n",
       "0                                Capt. Edward Gifford      1   0.0\n",
       "1                                           Col. John      1   0.0\n",
       "2                                  Col. Oberst Alfons      1   1.0\n",
       "3                                       Don. Manuel E      1   0.0\n",
       "4                                          Dr. Alfred      1   0.0\n",
       "..                                                ...    ...   ...\n",
       "798                                       Rev. Juozas      1   0.0\n",
       "799                                 Rev. Robert James      1   0.0\n",
       "800                        Rev. Thomas Roussel Davids      1   0.0\n",
       "801                   Sir. Cosmo Edmund (\"Mr Morgan\")      1   1.0\n",
       "802  the Countess. of (Lucy Noel Martha Dyer-Edwards)      1   1.0\n",
       "\n",
       "[803 rows x 3 columns]"
      ]
     },
     "execution_count": 17,
     "metadata": {},
     "output_type": "execute_result"
    }
   ],
   "source": [
    "train_df.groupby(['Title'], as_index=False)['Survived'].agg(['count', 'mean'])"
   ]
  },
  {
   "cell_type": "code",
   "execution_count": 18,
   "id": "69536175-6aa4-401b-a1db-d185aece282f",
   "metadata": {},
   "outputs": [],
   "source": [
    "train_df['Title'] = train_df['Title'].replace(['Capt', 'Col', 'Major', 'Rev', 'Dr'], 'Officers')\n",
    "train_df['Title'] = train_df['Title'].replace(['Mrs', 'Mme'], 'Mrs')\n",
    "train_df['Title'] = train_df['Title'].replace(['Miss', 'Mlle', 'Ms'], 'Miss')\n",
    "train_df['Title'] = train_df['Title'].replace(['Master'], 'Master')\n",
    "train_df['Title'] = train_df['Title'].replace(['Lady', 'the Countess', 'Sir', 'Jonkheer', 'Don'], 'VIP')\n",
    "train_df['Title'] = train_df['Title'].replace(['Mr'], 'Mr')\n",
    "\n",
    "test_df['Title'] = test_df['Title'].replace(['Capt', 'Col', 'Major', 'Rev', 'Dr'], 'Officers')\n",
    "test_df['Title'] = test_df['Title'].replace(['Mrs', 'Mme'], 'Mrs')\n",
    "test_df['Title'] = test_df['Title'].replace(['Miss', 'Mlle', 'Ms'], 'Miss')\n",
    "test_df['Title'] = test_df['Title'].replace(['Master'], 'Master')\n",
    "test_df['Title'] = test_df['Title'].replace(['Lady', 'the Countess', 'Sir', 'Jonkheer', 'Don'], 'VIP')\n",
    "test_df['Title'] = test_df['Title'].replace(['Mr'], 'Mr')\n",
    "\n"
   ]
  },
  {
   "cell_type": "code",
   "execution_count": 19,
   "id": "db4f66b8-b225-4e7a-899f-e0acd228e86a",
   "metadata": {},
   "outputs": [
    {
     "data": {
      "text/html": [
       "<div>\n",
       "<style scoped>\n",
       "    .dataframe tbody tr th:only-of-type {\n",
       "        vertical-align: middle;\n",
       "    }\n",
       "\n",
       "    .dataframe tbody tr th {\n",
       "        vertical-align: top;\n",
       "    }\n",
       "\n",
       "    .dataframe thead th {\n",
       "        text-align: right;\n",
       "    }\n",
       "</style>\n",
       "<table border=\"1\" class=\"dataframe\">\n",
       "  <thead>\n",
       "    <tr style=\"text-align: right;\">\n",
       "      <th></th>\n",
       "      <th>Title</th>\n",
       "      <th>count</th>\n",
       "      <th>mean</th>\n",
       "    </tr>\n",
       "  </thead>\n",
       "  <tbody>\n",
       "    <tr>\n",
       "      <th>0</th>\n",
       "      <td>Capt. Edward Gifford</td>\n",
       "      <td>1</td>\n",
       "      <td>0.0</td>\n",
       "    </tr>\n",
       "    <tr>\n",
       "      <th>1</th>\n",
       "      <td>Col. John</td>\n",
       "      <td>1</td>\n",
       "      <td>0.0</td>\n",
       "    </tr>\n",
       "    <tr>\n",
       "      <th>2</th>\n",
       "      <td>Col. Oberst Alfons</td>\n",
       "      <td>1</td>\n",
       "      <td>1.0</td>\n",
       "    </tr>\n",
       "    <tr>\n",
       "      <th>3</th>\n",
       "      <td>Don. Manuel E</td>\n",
       "      <td>1</td>\n",
       "      <td>0.0</td>\n",
       "    </tr>\n",
       "    <tr>\n",
       "      <th>4</th>\n",
       "      <td>Dr. Alfred</td>\n",
       "      <td>1</td>\n",
       "      <td>0.0</td>\n",
       "    </tr>\n",
       "    <tr>\n",
       "      <th>...</th>\n",
       "      <td>...</td>\n",
       "      <td>...</td>\n",
       "      <td>...</td>\n",
       "    </tr>\n",
       "    <tr>\n",
       "      <th>798</th>\n",
       "      <td>Rev. Juozas</td>\n",
       "      <td>1</td>\n",
       "      <td>0.0</td>\n",
       "    </tr>\n",
       "    <tr>\n",
       "      <th>799</th>\n",
       "      <td>Rev. Robert James</td>\n",
       "      <td>1</td>\n",
       "      <td>0.0</td>\n",
       "    </tr>\n",
       "    <tr>\n",
       "      <th>800</th>\n",
       "      <td>Rev. Thomas Roussel Davids</td>\n",
       "      <td>1</td>\n",
       "      <td>0.0</td>\n",
       "    </tr>\n",
       "    <tr>\n",
       "      <th>801</th>\n",
       "      <td>Sir. Cosmo Edmund (\"Mr Morgan\")</td>\n",
       "      <td>1</td>\n",
       "      <td>1.0</td>\n",
       "    </tr>\n",
       "    <tr>\n",
       "      <th>802</th>\n",
       "      <td>the Countess. of (Lucy Noel Martha Dyer-Edwards)</td>\n",
       "      <td>1</td>\n",
       "      <td>1.0</td>\n",
       "    </tr>\n",
       "  </tbody>\n",
       "</table>\n",
       "<p>803 rows × 3 columns</p>\n",
       "</div>"
      ],
      "text/plain": [
       "                                                Title  count  mean\n",
       "0                                Capt. Edward Gifford      1   0.0\n",
       "1                                           Col. John      1   0.0\n",
       "2                                  Col. Oberst Alfons      1   1.0\n",
       "3                                       Don. Manuel E      1   0.0\n",
       "4                                          Dr. Alfred      1   0.0\n",
       "..                                                ...    ...   ...\n",
       "798                                       Rev. Juozas      1   0.0\n",
       "799                                 Rev. Robert James      1   0.0\n",
       "800                        Rev. Thomas Roussel Davids      1   0.0\n",
       "801                   Sir. Cosmo Edmund (\"Mr Morgan\")      1   1.0\n",
       "802  the Countess. of (Lucy Noel Martha Dyer-Edwards)      1   1.0\n",
       "\n",
       "[803 rows x 3 columns]"
      ]
     },
     "execution_count": 19,
     "metadata": {},
     "output_type": "execute_result"
    }
   ],
   "source": [
    "train_df.groupby('Title', as_index=False)['Survived'].agg(['count', 'mean'])\n"
   ]
  },
  {
   "cell_type": "markdown",
   "id": "0948e5a8-0d30-4aa3-b888-1c3b0aff36d8",
   "metadata": {},
   "source": [
    "# Data Cleaning"
   ]
  },
  {
   "cell_type": "code",
   "execution_count": 22,
   "id": "687a2f0d-cd45-4b55-a83c-b27154dd279a",
   "metadata": {},
   "outputs": [],
   "source": [
    "train_df.Embarked = train_df.Embarked.fillna(train_df.Embarked.mode()[0])\n",
    "test_df.Embarked = test_df.Embarked.fillna(test_df.Embarked.mode()[0])\n"
   ]
  },
  {
   "cell_type": "code",
   "execution_count": 23,
   "id": "5a3e17c6-7af0-4969-8e6b-2346da51a529",
   "metadata": {},
   "outputs": [
    {
     "data": {
      "text/plain": [
       "Index(['Survived', 'Pclass', 'Sex', 'Age', 'Fare', 'Embarked', 'Fam_type',\n",
       "       'Title', 'Titile'],\n",
       "      dtype='object')"
      ]
     },
     "execution_count": 23,
     "metadata": {},
     "output_type": "execute_result"
    }
   ],
   "source": [
    "train_df.columns"
   ]
  },
  {
   "cell_type": "code",
   "execution_count": 29,
   "id": "ee439d33-cdd8-45bb-bf7e-6f5dbd91dd7c",
   "metadata": {},
   "outputs": [
    {
     "data": {
      "text/html": [
       "<div>\n",
       "<style scoped>\n",
       "    .dataframe tbody tr th:only-of-type {\n",
       "        vertical-align: middle;\n",
       "    }\n",
       "\n",
       "    .dataframe tbody tr th {\n",
       "        vertical-align: top;\n",
       "    }\n",
       "\n",
       "    .dataframe thead th {\n",
       "        text-align: right;\n",
       "    }\n",
       "</style>\n",
       "<table border=\"1\" class=\"dataframe\">\n",
       "  <thead>\n",
       "    <tr style=\"text-align: right;\">\n",
       "      <th></th>\n",
       "      <th>Survived</th>\n",
       "      <th>Pclass</th>\n",
       "      <th>Sex</th>\n",
       "      <th>Age</th>\n",
       "      <th>Fare</th>\n",
       "      <th>Embarked</th>\n",
       "      <th>Fam_type</th>\n",
       "      <th>Title</th>\n",
       "      <th>Titile</th>\n",
       "    </tr>\n",
       "  </thead>\n",
       "  <tbody>\n",
       "    <tr>\n",
       "      <th>0</th>\n",
       "      <td>0</td>\n",
       "      <td>3</td>\n",
       "      <td>male</td>\n",
       "      <td>1.0</td>\n",
       "      <td>1.0</td>\n",
       "      <td>S</td>\n",
       "      <td>Small</td>\n",
       "      <td>Mr. Owen Harris</td>\n",
       "      <td>Mr</td>\n",
       "    </tr>\n",
       "    <tr>\n",
       "      <th>1</th>\n",
       "      <td>1</td>\n",
       "      <td>1</td>\n",
       "      <td>female</td>\n",
       "      <td>2.0</td>\n",
       "      <td>3.0</td>\n",
       "      <td>C</td>\n",
       "      <td>Small</td>\n",
       "      <td>Mrs. John Bradley (Florence Briggs Thayer)</td>\n",
       "      <td>Mrs</td>\n",
       "    </tr>\n",
       "    <tr>\n",
       "      <th>2</th>\n",
       "      <td>1</td>\n",
       "      <td>3</td>\n",
       "      <td>female</td>\n",
       "      <td>1.0</td>\n",
       "      <td>1.0</td>\n",
       "      <td>S</td>\n",
       "      <td>Solo</td>\n",
       "      <td>Miss. Laina</td>\n",
       "      <td>Miss</td>\n",
       "    </tr>\n",
       "    <tr>\n",
       "      <th>3</th>\n",
       "      <td>1</td>\n",
       "      <td>1</td>\n",
       "      <td>female</td>\n",
       "      <td>2.0</td>\n",
       "      <td>3.0</td>\n",
       "      <td>S</td>\n",
       "      <td>Small</td>\n",
       "      <td>Mrs. Jacques Heath (Lily May Peel)</td>\n",
       "      <td>Mrs</td>\n",
       "    </tr>\n",
       "    <tr>\n",
       "      <th>4</th>\n",
       "      <td>0</td>\n",
       "      <td>3</td>\n",
       "      <td>male</td>\n",
       "      <td>2.0</td>\n",
       "      <td>1.0</td>\n",
       "      <td>S</td>\n",
       "      <td>Solo</td>\n",
       "      <td>Mr. William Henry</td>\n",
       "      <td>Mr</td>\n",
       "    </tr>\n",
       "  </tbody>\n",
       "</table>\n",
       "</div>"
      ],
      "text/plain": [
       "   Survived  Pclass     Sex  Age  Fare Embarked Fam_type  \\\n",
       "0         0       3    male  1.0   1.0        S    Small   \n",
       "1         1       1  female  2.0   3.0        C    Small   \n",
       "2         1       3  female  1.0   1.0        S     Solo   \n",
       "3         1       1  female  2.0   3.0        S    Small   \n",
       "4         0       3    male  2.0   1.0        S     Solo   \n",
       "\n",
       "                                        Title Titile  \n",
       "0                             Mr. Owen Harris     Mr  \n",
       "1  Mrs. John Bradley (Florence Briggs Thayer)    Mrs  \n",
       "2                                 Miss. Laina   Miss  \n",
       "3          Mrs. Jacques Heath (Lily May Peel)    Mrs  \n",
       "4                           Mr. William Henry     Mr  "
      ]
     },
     "execution_count": 29,
     "metadata": {},
     "output_type": "execute_result"
    }
   ],
   "source": [
    "train_df.drop(['PassengerId', 'Name', 'SibSp', 'Parch', 'Ticket', 'FamilySize', 'Cabin'], inplace=True, axis=1, errors='ignore')\n",
    "test_df.drop(['PassengerId', 'Name', 'SibSp', 'Parch', 'Ticket', 'FamilySize', 'Cabin'], inplace=True, axis=1, errors='ignore')\n",
    "train_df.head() "
   ]
  },
  {
   "cell_type": "markdown",
   "id": "9c63d794-b047-4814-a1a3-70a55bfe830d",
   "metadata": {},
   "source": [
    "# Encoding"
   ]
  },
  {
   "cell_type": "code",
   "execution_count": 31,
   "id": "c22fb653-a5e2-48b9-a156-5ddf240c9766",
   "metadata": {},
   "outputs": [],
   "source": [
    "from sklearn.preprocessing import LabelEncoder\n",
    "train_df[\"Sex\"] = LabelEncoder().fit_transform(train_df[\"Sex\"])\n",
    "train_df[\"Embarked\"] = LabelEncoder().fit_transform(train_df[\"Embarked\"])\n",
    "train_df[\"Fam_type\"] = LabelEncoder().fit_transform(train_df[\"Fam_type\"])\n",
    "train_df[\"Title\"] = LabelEncoder().fit_transform(train_df[\"Title\"])\n",
    "\n",
    "test_df[\"Sex\"] = LabelEncoder().fit_transform(test_df[\"Sex\"])\n",
    "test_df[\"Embarked\"] = LabelEncoder().fit_transform(test_df[\"Embarked\"])\n",
    "test_df[\"Fam_type\"] = LabelEncoder().fit_transform(test_df[\"Fam_type\"])\n",
    "test_df[\"Title\"] = LabelEncoder().fit_transform(test_df[\"Title\"])"
   ]
  },
  {
   "cell_type": "markdown",
   "id": "c85be84f-aaff-4379-853b-6c373acbdcd0",
   "metadata": {},
   "source": [
    "# Feature Selection"
   ]
  },
  {
   "cell_type": "code",
   "execution_count": 32,
   "id": "17c8c3dc-8bd0-43c8-850a-42aeff598767",
   "metadata": {},
   "outputs": [
    {
     "data": {
      "image/png": "[encoded data removed]",
      "text/plain": [
       "<Figure size 1500x1200 with 2 Axes>"
      ]
     },
     "metadata": {},
     "output_type": "display_data"
    }
   ],
   "source": [
    "import matplotlib.pyplot as plt\n",
    "\n",
    "# Calculate the correlation matrix\n",
    "correlation_matrix = train_df.corr(numeric_only=True)\n",
    "\n",
    "# Adjust the figure size and font properties for better readability\n",
    "plt.figure(figsize=(15, 12))  # Increase figure size\n",
    "heatmap = sns.heatmap(correlation_matrix,\n",
    "                      annot=True,\n",
    "                      cmap='viridis',\n",
    "                      fmt=\".2f\",\n",
    "                      annot_kws={\"size\": 8},  # Smaller font size for annotations\n",
    "                      cbar_kws={\"shrink\": 0.8})  # Shrink color bar size\n",
    "\n",
    "# Rotate the x and y labels for better readability\n",
    "plt.xticks(rotation=45, ha='right', fontsize=10)\n",
    "plt.yticks(rotation=0, fontsize=10)\n",
    "\n",
    "plt.tight_layout()  # Adjust layout for better fit\n",
    "plt.show()"
   ]
  },
  {
   "cell_type": "code",
   "execution_count": 70,
   "id": "4f19da32-c319-49cb-b6bc-8c5f0dd0fe46",
   "metadata": {},
   "outputs": [],
   "source": [
    "train_df = train_df.loc[:, ['Survived', 'Pclass', 'Sex', 'Embarked', 'Age', 'Fare', 'Fam_type', 'Title' ]]\n",
    "test_df = test_df.loc[:, ['Pclass', 'Sex', 'Embarked', 'Age', 'Fare', 'Fam_type', 'Title']]"
   ]
  },
  {
   "cell_type": "markdown",
   "id": "b78e9601-2ca4-434f-974d-3ea2208df8f1",
   "metadata": {},
   "source": [
    "# Data Splitting, Model Selection & Training"
   ]
  },
  {
   "cell_type": "code",
   "execution_count": 72,
   "id": "9e0deac9-1947-40f6-872b-c90792f40ab1",
   "metadata": {},
   "outputs": [],
   "source": [
    "X = train_df.iloc[:,1].values\n",
    "y = train_df.iloc[:,0].values\n",
    "\n",
    "from sklearn.model_selection import train_test_split\n",
    "X_train,X_test,y_train,y_test = train_test_split(X,y,test_size = 0.2, random_state = 0 )"
   ]
  },
  {
   "cell_type": "markdown",
   "id": "db464c8b-d8e2-4247-89c2-db38d88d0b97",
   "metadata": {},
   "source": [
    "# Model Evaluation "
   ]
  },
  {
   "cell_type": "code",
   "execution_count": 75,
   "id": "fa38c153-2ec3-43f0-89ad-7e5e1bdc2f1f",
   "metadata": {},
   "outputs": [
    {
     "name": "stdout",
     "output_type": "stream",
     "text": [
      "              precision    recall  f1-score   support\n",
      "\n",
      "           0       0.84      0.89      0.87       110\n",
      "           1       0.81      0.74      0.77        69\n",
      "\n",
      "    accuracy                           0.83       179\n",
      "   macro avg       0.83      0.82      0.82       179\n",
      "weighted avg       0.83      0.83      0.83       179\n",
      "\n"
     ]
    }
   ],
   "source": [
    "from sklearn.model_selection import train_test_split\n",
    "from sklearn.ensemble import RandomForestClassifier\n",
    "from sklearn.metrics import classification_report\n",
    "\n",
    "# Features and target\n",
    "X = train_df.iloc[:, 1:].values   # all columns except 'Survived'\n",
    "y = train_df.iloc[:, 0].values    # 'Survived'\n",
    "\n",
    "# Split dataset\n",
    "X_train, X_test, y_train, y_test = train_test_split(X, y, test_size=0.2, random_state=0)\n",
    "\n",
    "# Train model\n",
    "rfc = RandomForestClassifier(max_depth=10, n_estimators=200)\n",
    "rf_model = rfc.fit(X_train, y_train)\n",
    "\n",
    "# Predict\n",
    "y_pred = rf_model.predict(X_test)\n",
    "\n",
    "\n",
    "print(classification_report(y_test, y_pred))\n"
   ]
  },
  {
   "cell_type": "code",
   "execution_count": null,
   "id": "36749813-7ec2-4245-ada5-89cb74aa47ac",
   "metadata": {},
   "outputs": [],
   "source": []
  }
 ],
 "metadata": {
  "kernelspec": {
   "display_name": "Python 3 (ipykernel)",
   "language": "python",
   "name": "python3"
  },
  "language_info": {
   "codemirror_mode": {
    "name": "ipython",
    "version": 3
   },
   "file_extension": ".py",
   "mimetype": "text/x-python",
   "name": "python",
   "nbconvert_exporter": "python",
   "pygments_lexer": "ipython3",
   "version": "3.13.7"
  }
 },
 "nbformat": 4,
 "nbformat_minor": 5
}
