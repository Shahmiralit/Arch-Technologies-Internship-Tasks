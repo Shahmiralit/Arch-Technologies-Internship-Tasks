{
 "cells": [
  {
   "cell_type": "markdown",
   "id": "136dcc0c-b3ae-4d36-bcbd-06db464ae2d6",
   "metadata": {},
   "source": [
    "#    STOCK PRICE PREDICTION"
   ]
  },
  {
   "cell_type": "markdown",
   "id": "2118160a-9fed-4251-a1f6-e8b465ff75dc",
   "metadata": {},
   "source": [
    "# Imported Data "
   ]
  },
  {
   "cell_type": "code",
   "execution_count": 34,
   "id": "43803451-434c-457c-a4d7-338b47e3ec39",
   "metadata": {},
   "outputs": [
    {
     "name": "stdout",
     "output_type": "stream",
     "text": [
      "TensorFlow available. Version: 2.20.0\n",
      "All other libraries imported.\n",
      "Rows downloaded: 2515\n"
     ]
    },
    {
     "data": {
      "text/html": [
       "<div>\n",
       "<style scoped>\n",
       "    .dataframe tbody tr th:only-of-type {\n",
       "        vertical-align: middle;\n",
       "    }\n",
       "\n",
       "    .dataframe tbody tr th {\n",
       "        vertical-align: top;\n",
       "    }\n",
       "\n",
       "    .dataframe thead tr th {\n",
       "        text-align: left;\n",
       "    }\n",
       "\n",
       "    .dataframe thead tr:last-of-type th {\n",
       "        text-align: right;\n",
       "    }\n",
       "</style>\n",
       "<table border=\"1\" class=\"dataframe\">\n",
       "  <thead>\n",
       "    <tr>\n",
       "      <th>Price</th>\n",
       "      <th>Close</th>\n",
       "      <th>High</th>\n",
       "      <th>Low</th>\n",
       "      <th>Open</th>\n",
       "      <th>Volume</th>\n",
       "    </tr>\n",
       "    <tr>\n",
       "      <th>Ticker</th>\n",
       "      <th>AAPL</th>\n",
       "      <th>AAPL</th>\n",
       "      <th>AAPL</th>\n",
       "      <th>AAPL</th>\n",
       "      <th>AAPL</th>\n",
       "    </tr>\n",
       "    <tr>\n",
       "      <th>Date</th>\n",
       "      <th></th>\n",
       "      <th></th>\n",
       "      <th></th>\n",
       "      <th></th>\n",
       "      <th></th>\n",
       "    </tr>\n",
       "  </thead>\n",
       "  <tbody>\n",
       "    <tr>\n",
       "      <th>2015-01-02</th>\n",
       "      <td>24.261055</td>\n",
       "      <td>24.729278</td>\n",
       "      <td>23.821679</td>\n",
       "      <td>24.718182</td>\n",
       "      <td>212818400</td>\n",
       "    </tr>\n",
       "    <tr>\n",
       "      <th>2015-01-05</th>\n",
       "      <td>23.577576</td>\n",
       "      <td>24.110152</td>\n",
       "      <td>23.391175</td>\n",
       "      <td>24.030265</td>\n",
       "      <td>257142000</td>\n",
       "    </tr>\n",
       "    <tr>\n",
       "      <th>2015-01-06</th>\n",
       "      <td>23.579792</td>\n",
       "      <td>23.839422</td>\n",
       "      <td>23.218083</td>\n",
       "      <td>23.641926</td>\n",
       "      <td>263188400</td>\n",
       "    </tr>\n",
       "    <tr>\n",
       "      <th>2015-01-07</th>\n",
       "      <td>23.910437</td>\n",
       "      <td>24.010294</td>\n",
       "      <td>23.677434</td>\n",
       "      <td>23.788387</td>\n",
       "      <td>160423600</td>\n",
       "    </tr>\n",
       "    <tr>\n",
       "      <th>2015-01-08</th>\n",
       "      <td>24.829138</td>\n",
       "      <td>24.886834</td>\n",
       "      <td>24.121255</td>\n",
       "      <td>24.238867</td>\n",
       "      <td>237458000</td>\n",
       "    </tr>\n",
       "  </tbody>\n",
       "</table>\n",
       "</div>"
      ],
      "text/plain": [
       "Price           Close       High        Low       Open     Volume\n",
       "Ticker           AAPL       AAPL       AAPL       AAPL       AAPL\n",
       "Date                                                             \n",
       "2015-01-02  24.261055  24.729278  23.821679  24.718182  212818400\n",
       "2015-01-05  23.577576  24.110152  23.391175  24.030265  257142000\n",
       "2015-01-06  23.579792  23.839422  23.218083  23.641926  263188400\n",
       "2015-01-07  23.910437  24.010294  23.677434  23.788387  160423600\n",
       "2015-01-08  24.829138  24.886834  24.121255  24.238867  237458000"
      ]
     },
     "metadata": {},
     "output_type": "display_data"
    }
   ],
   "source": [
    "\n",
    "import warnings\n",
    "warnings.filterwarnings('ignore')\n",
    "\n",
    "import numpy as np\n",
    "import pandas as pd\n",
    "import matplotlib.pyplot as plt\n",
    "import seaborn as sns\n",
    "sns.set(style='darkgrid')\n",
    "%matplotlib inline\n",
    "\n",
    "from sklearn.linear_model import LinearRegression\n",
    "from sklearn.preprocessing import MinMaxScaler\n",
    "from sklearn.metrics import mean_squared_error, mean_absolute_error, r2_score\n",
    "\n",
    "import yfinance as yf\n",
    "\n",
    "# Try to import TensorFlow (LSTM). If unavailable we skip LSTM steps automatically.\n",
    "try:\n",
    "    import tensorflow as tf\n",
    "    from tensorflow.keras.models import Sequential\n",
    "    from tensorflow.keras.layers import LSTM, Dense, Dropout\n",
    "    from tensorflow.keras.callbacks import EarlyStopping\n",
    "    TF_AVAILABLE = True\n",
    "    print(\"TensorFlow available. Version:\", tf.__version__)\n",
    "except Exception as e:\n",
    "    TF_AVAILABLE = False\n",
    "    print(\"TensorFlow NOT available — LSTM steps will be skipped. Error:\", e)\n",
    "\n",
    "print(\"All other libraries imported.\")\n",
    "\n",
    "ticker = \"AAPL\"\n",
    "start_date = \"2015-01-01\"\n",
    "end_date = \"2024-12-31\"\n",
    "\n",
    "df = yf.download(ticker, start=start_date, end=end_date, progress=False)\n",
    "print(\"Rows downloaded:\", len(df))\n",
    "display(df.head())"
   ]
  },
  {
   "cell_type": "markdown",
   "id": "cf2ff074-8308-4dd2-a67f-c337b9a2da77",
   "metadata": {},
   "source": [
    "# Handeled Missing Values"
   ]
  },
  {
   "cell_type": "code",
   "execution_count": 11,
   "id": "ec806956-bb29-484b-ba12-a356b2e0a44f",
   "metadata": {},
   "outputs": [
    {
     "name": "stdout",
     "output_type": "stream",
     "text": [
      "<class 'pandas.core.frame.DataFrame'>\n",
      "DatetimeIndex: 2515 entries, 2015-01-02 to 2024-12-30\n",
      "Data columns (total 5 columns):\n",
      " #   Column          Non-Null Count  Dtype  \n",
      "---  ------          --------------  -----  \n",
      " 0   (Close, AAPL)   2515 non-null   float64\n",
      " 1   (High, AAPL)    2515 non-null   float64\n",
      " 2   (Low, AAPL)     2515 non-null   float64\n",
      " 3   (Open, AAPL)    2515 non-null   float64\n",
      " 4   (Volume, AAPL)  2515 non-null   int64  \n",
      "dtypes: float64(4), int64(1)\n",
      "memory usage: 117.9 KB\n",
      "None\n",
      "\n",
      "Missing values per column:\n",
      " Price   Ticker\n",
      "Close   AAPL      0\n",
      "High    AAPL      0\n",
      "Low     AAPL      0\n",
      "Open    AAPL      0\n",
      "Volume  AAPL      0\n",
      "dtype: int64\n"
     ]
    },
    {
     "data": {
      "text/html": [
       "<div>\n",
       "<style scoped>\n",
       "    .dataframe tbody tr th:only-of-type {\n",
       "        vertical-align: middle;\n",
       "    }\n",
       "\n",
       "    .dataframe tbody tr th {\n",
       "        vertical-align: top;\n",
       "    }\n",
       "\n",
       "    .dataframe thead tr th {\n",
       "        text-align: left;\n",
       "    }\n",
       "</style>\n",
       "<table border=\"1\" class=\"dataframe\">\n",
       "  <thead>\n",
       "    <tr>\n",
       "      <th>Price</th>\n",
       "      <th>Close</th>\n",
       "      <th>High</th>\n",
       "      <th>Low</th>\n",
       "      <th>Open</th>\n",
       "      <th>Volume</th>\n",
       "    </tr>\n",
       "    <tr>\n",
       "      <th>Ticker</th>\n",
       "      <th>AAPL</th>\n",
       "      <th>AAPL</th>\n",
       "      <th>AAPL</th>\n",
       "      <th>AAPL</th>\n",
       "      <th>AAPL</th>\n",
       "    </tr>\n",
       "  </thead>\n",
       "  <tbody>\n",
       "    <tr>\n",
       "      <th>count</th>\n",
       "      <td>2515.00</td>\n",
       "      <td>2515.00</td>\n",
       "      <td>2515.00</td>\n",
       "      <td>2515.00</td>\n",
       "      <td>2.515000e+03</td>\n",
       "    </tr>\n",
       "    <tr>\n",
       "      <th>mean</th>\n",
       "      <td>93.89</td>\n",
       "      <td>94.80</td>\n",
       "      <td>92.87</td>\n",
       "      <td>93.80</td>\n",
       "      <td>1.171162e+08</td>\n",
       "    </tr>\n",
       "    <tr>\n",
       "      <th>std</th>\n",
       "      <td>65.44</td>\n",
       "      <td>66.04</td>\n",
       "      <td>64.76</td>\n",
       "      <td>65.36</td>\n",
       "      <td>6.839222e+07</td>\n",
       "    </tr>\n",
       "    <tr>\n",
       "      <th>min</th>\n",
       "      <td>20.62</td>\n",
       "      <td>20.93</td>\n",
       "      <td>20.43</td>\n",
       "      <td>20.55</td>\n",
       "      <td>2.323470e+07</td>\n",
       "    </tr>\n",
       "    <tr>\n",
       "      <th>25%</th>\n",
       "      <td>35.24</td>\n",
       "      <td>35.64</td>\n",
       "      <td>34.88</td>\n",
       "      <td>35.27</td>\n",
       "      <td>7.108655e+07</td>\n",
       "    </tr>\n",
       "    <tr>\n",
       "      <th>50%</th>\n",
       "      <td>64.44</td>\n",
       "      <td>64.79</td>\n",
       "      <td>63.63</td>\n",
       "      <td>64.19</td>\n",
       "      <td>1.003845e+08</td>\n",
       "    </tr>\n",
       "    <tr>\n",
       "      <th>75%</th>\n",
       "      <td>150.37</td>\n",
       "      <td>152.09</td>\n",
       "      <td>148.35</td>\n",
       "      <td>150.15</td>\n",
       "      <td>1.426222e+08</td>\n",
       "    </tr>\n",
       "    <tr>\n",
       "      <th>max</th>\n",
       "      <td>258.10</td>\n",
       "      <td>259.18</td>\n",
       "      <td>256.72</td>\n",
       "      <td>257.28</td>\n",
       "      <td>6.488252e+08</td>\n",
       "    </tr>\n",
       "  </tbody>\n",
       "</table>\n",
       "</div>"
      ],
      "text/plain": [
       "Price     Close     High      Low     Open        Volume\n",
       "Ticker     AAPL     AAPL     AAPL     AAPL          AAPL\n",
       "count   2515.00  2515.00  2515.00  2515.00  2.515000e+03\n",
       "mean      93.89    94.80    92.87    93.80  1.171162e+08\n",
       "std       65.44    66.04    64.76    65.36  6.839222e+07\n",
       "min       20.62    20.93    20.43    20.55  2.323470e+07\n",
       "25%       35.24    35.64    34.88    35.27  7.108655e+07\n",
       "50%       64.44    64.79    63.63    64.19  1.003845e+08\n",
       "75%      150.37   152.09   148.35   150.15  1.426222e+08\n",
       "max      258.10   259.18   256.72   257.28  6.488252e+08"
      ]
     },
     "metadata": {},
     "output_type": "display_data"
    }
   ],
   "source": [
    "print(df.info())\n",
    "print(\"\\nMissing values per column:\\n\", df.isna().sum())\n",
    "display(df.describe().round(2))"
   ]
  },
  {
   "cell_type": "markdown",
   "id": "41e0b56a-a05d-41dd-88e5-fefae8db9813",
   "metadata": {},
   "source": [
    "# Cleaning & Feature Engineering"
   ]
  },
  {
   "cell_type": "code",
   "execution_count": 12,
   "id": "b40d3cb7-da35-41f1-842c-e759dc9b4bcf",
   "metadata": {},
   "outputs": [
    {
     "name": "stdout",
     "output_type": "stream",
     "text": [
      "After feature engineering rows: 2515\n"
     ]
    },
    {
     "data": {
      "text/html": [
       "<div>\n",
       "<style scoped>\n",
       "    .dataframe tbody tr th:only-of-type {\n",
       "        vertical-align: middle;\n",
       "    }\n",
       "\n",
       "    .dataframe tbody tr th {\n",
       "        vertical-align: top;\n",
       "    }\n",
       "\n",
       "    .dataframe thead tr th {\n",
       "        text-align: left;\n",
       "    }\n",
       "\n",
       "    .dataframe thead tr:last-of-type th {\n",
       "        text-align: right;\n",
       "    }\n",
       "</style>\n",
       "<table border=\"1\" class=\"dataframe\">\n",
       "  <thead>\n",
       "    <tr>\n",
       "      <th>Price</th>\n",
       "      <th>Open</th>\n",
       "      <th>High</th>\n",
       "      <th>Low</th>\n",
       "      <th>Close</th>\n",
       "      <th>Volume</th>\n",
       "      <th>HL_PCT</th>\n",
       "      <th>PCT_change</th>\n",
       "      <th>MA10</th>\n",
       "      <th>MA50</th>\n",
       "      <th>Volume_log</th>\n",
       "    </tr>\n",
       "    <tr>\n",
       "      <th>Ticker</th>\n",
       "      <th>AAPL</th>\n",
       "      <th>AAPL</th>\n",
       "      <th>AAPL</th>\n",
       "      <th>AAPL</th>\n",
       "      <th>AAPL</th>\n",
       "      <th></th>\n",
       "      <th></th>\n",
       "      <th></th>\n",
       "      <th></th>\n",
       "      <th></th>\n",
       "    </tr>\n",
       "    <tr>\n",
       "      <th>Date</th>\n",
       "      <th></th>\n",
       "      <th></th>\n",
       "      <th></th>\n",
       "      <th></th>\n",
       "      <th></th>\n",
       "      <th></th>\n",
       "      <th></th>\n",
       "      <th></th>\n",
       "      <th></th>\n",
       "      <th></th>\n",
       "    </tr>\n",
       "  </thead>\n",
       "  <tbody>\n",
       "    <tr>\n",
       "      <th>2024-12-23</th>\n",
       "      <td>253.868773</td>\n",
       "      <td>254.745650</td>\n",
       "      <td>252.553435</td>\n",
       "      <td>254.367004</td>\n",
       "      <td>40858800</td>\n",
       "      <td>0.861831</td>\n",
       "      <td>0.196255</td>\n",
       "      <td>249.361781</td>\n",
       "      <td>234.447658</td>\n",
       "      <td>17.525633</td>\n",
       "    </tr>\n",
       "    <tr>\n",
       "      <th>2024-12-24</th>\n",
       "      <td>254.586262</td>\n",
       "      <td>257.296626</td>\n",
       "      <td>254.386957</td>\n",
       "      <td>257.286682</td>\n",
       "      <td>23234700</td>\n",
       "      <td>1.130906</td>\n",
       "      <td>1.060709</td>\n",
       "      <td>250.401096</td>\n",
       "      <td>234.988821</td>\n",
       "      <td>16.961157</td>\n",
       "    </tr>\n",
       "    <tr>\n",
       "      <th>2024-12-26</th>\n",
       "      <td>257.276679</td>\n",
       "      <td>259.179926</td>\n",
       "      <td>256.718662</td>\n",
       "      <td>258.103729</td>\n",
       "      <td>27237100</td>\n",
       "      <td>0.953595</td>\n",
       "      <td>0.321463</td>\n",
       "      <td>251.649660</td>\n",
       "      <td>235.495562</td>\n",
       "      <td>17.120091</td>\n",
       "    </tr>\n",
       "    <tr>\n",
       "      <th>2024-12-27</th>\n",
       "      <td>256.917934</td>\n",
       "      <td>257.784882</td>\n",
       "      <td>252.164818</td>\n",
       "      <td>254.685867</td>\n",
       "      <td>42355300</td>\n",
       "      <td>2.206665</td>\n",
       "      <td>-0.868786</td>\n",
       "      <td>252.409959</td>\n",
       "      <td>235.975154</td>\n",
       "      <td>17.561604</td>\n",
       "    </tr>\n",
       "    <tr>\n",
       "      <th>2024-12-30</th>\n",
       "      <td>251.337769</td>\n",
       "      <td>252.603281</td>\n",
       "      <td>249.863009</td>\n",
       "      <td>251.307877</td>\n",
       "      <td>35557500</td>\n",
       "      <td>1.090404</td>\n",
       "      <td>-0.011893</td>\n",
       "      <td>252.815518</td>\n",
       "      <td>236.379820</td>\n",
       "      <td>17.386662</td>\n",
       "    </tr>\n",
       "  </tbody>\n",
       "</table>\n",
       "</div>"
      ],
      "text/plain": [
       "Price             Open        High         Low       Close    Volume  \\\n",
       "Ticker            AAPL        AAPL        AAPL        AAPL      AAPL   \n",
       "Date                                                                   \n",
       "2024-12-23  253.868773  254.745650  252.553435  254.367004  40858800   \n",
       "2024-12-24  254.586262  257.296626  254.386957  257.286682  23234700   \n",
       "2024-12-26  257.276679  259.179926  256.718662  258.103729  27237100   \n",
       "2024-12-27  256.917934  257.784882  252.164818  254.685867  42355300   \n",
       "2024-12-30  251.337769  252.603281  249.863009  251.307877  35557500   \n",
       "\n",
       "Price         HL_PCT PCT_change        MA10        MA50 Volume_log  \n",
       "Ticker                                                              \n",
       "Date                                                                \n",
       "2024-12-23  0.861831   0.196255  249.361781  234.447658  17.525633  \n",
       "2024-12-24  1.130906   1.060709  250.401096  234.988821  16.961157  \n",
       "2024-12-26  0.953595   0.321463  251.649660  235.495562  17.120091  \n",
       "2024-12-27  2.206665  -0.868786  252.409959  235.975154  17.561604  \n",
       "2024-12-30  1.090404  -0.011893  252.815518  236.379820  17.386662  "
      ]
     },
     "metadata": {},
     "output_type": "display_data"
    }
   ],
   "source": [
    "\n",
    "df = df[['Open', 'High', 'Low', 'Close', 'Volume']].copy()\n",
    "\n",
    "\n",
    "df['HL_PCT'] = (df['High'] - df['Low']) / df['Close'] * 100.0\n",
    "df['PCT_change'] = (df['Close'] - df['Open']) / df['Open'] * 100.0\n",
    "df['MA10'] = df['Close'].rolling(window=10, min_periods=1).mean()\n",
    "df['MA50'] = df['Close'].rolling(window=50, min_periods=1).mean()\n",
    "df['Volume_log'] = np.log1p(df['Volume'])\n",
    "\n",
    "df.dropna(inplace=True)\n",
    "print(\"After feature engineering rows:\", len(df))\n",
    "display(df.tail())"
   ]
  },
  {
   "cell_type": "markdown",
   "id": "8927dfeb-e99d-4a7e-8be5-78a04067b029",
   "metadata": {},
   "source": [
    "# Defined Features "
   ]
  },
  {
   "cell_type": "code",
   "execution_count": 13,
   "id": "996fa5a8-b5f3-4767-ad56-e63bfc019f56",
   "metadata": {},
   "outputs": [
    {
     "name": "stdout",
     "output_type": "stream",
     "text": [
      "Dataset ready. Rows: 2514\n"
     ]
    },
    {
     "data": {
      "text/html": [
       "<div>\n",
       "<style scoped>\n",
       "    .dataframe tbody tr th:only-of-type {\n",
       "        vertical-align: middle;\n",
       "    }\n",
       "\n",
       "    .dataframe tbody tr th {\n",
       "        vertical-align: top;\n",
       "    }\n",
       "\n",
       "    .dataframe thead tr th {\n",
       "        text-align: left;\n",
       "    }\n",
       "\n",
       "    .dataframe thead tr:last-of-type th {\n",
       "        text-align: right;\n",
       "    }\n",
       "</style>\n",
       "<table border=\"1\" class=\"dataframe\">\n",
       "  <thead>\n",
       "    <tr>\n",
       "      <th>Price</th>\n",
       "      <th>Close</th>\n",
       "      <th>HL_PCT</th>\n",
       "      <th>PCT_change</th>\n",
       "      <th>MA10</th>\n",
       "      <th>MA50</th>\n",
       "      <th>Volume_log</th>\n",
       "      <th>Target</th>\n",
       "    </tr>\n",
       "    <tr>\n",
       "      <th>Ticker</th>\n",
       "      <th>AAPL</th>\n",
       "      <th></th>\n",
       "      <th></th>\n",
       "      <th></th>\n",
       "      <th></th>\n",
       "      <th></th>\n",
       "      <th></th>\n",
       "    </tr>\n",
       "    <tr>\n",
       "      <th>Date</th>\n",
       "      <th></th>\n",
       "      <th></th>\n",
       "      <th></th>\n",
       "      <th></th>\n",
       "      <th></th>\n",
       "      <th></th>\n",
       "      <th></th>\n",
       "    </tr>\n",
       "  </thead>\n",
       "  <tbody>\n",
       "    <tr>\n",
       "      <th>2015-01-02</th>\n",
       "      <td>24.261055</td>\n",
       "      <td>3.740971</td>\n",
       "      <td>-1.849356</td>\n",
       "      <td>24.261055</td>\n",
       "      <td>24.261055</td>\n",
       "      <td>19.175950</td>\n",
       "      <td>23.577576</td>\n",
       "    </tr>\n",
       "    <tr>\n",
       "      <th>2015-01-05</th>\n",
       "      <td>23.577576</td>\n",
       "      <td>3.049410</td>\n",
       "      <td>-1.883831</td>\n",
       "      <td>23.919315</td>\n",
       "      <td>23.919315</td>\n",
       "      <td>19.365139</td>\n",
       "      <td>23.579792</td>\n",
       "    </tr>\n",
       "    <tr>\n",
       "      <th>2015-01-06</th>\n",
       "      <td>23.579792</td>\n",
       "      <td>2.635049</td>\n",
       "      <td>-0.262811</td>\n",
       "      <td>23.806141</td>\n",
       "      <td>23.806141</td>\n",
       "      <td>19.388381</td>\n",
       "      <td>23.910437</td>\n",
       "    </tr>\n",
       "    <tr>\n",
       "      <th>2015-01-07</th>\n",
       "      <td>23.910437</td>\n",
       "      <td>1.392111</td>\n",
       "      <td>0.513063</td>\n",
       "      <td>23.832215</td>\n",
       "      <td>23.832215</td>\n",
       "      <td>18.893328</td>\n",
       "      <td>24.829138</td>\n",
       "    </tr>\n",
       "    <tr>\n",
       "      <th>2015-01-08</th>\n",
       "      <td>24.829138</td>\n",
       "      <td>3.083390</td>\n",
       "      <td>2.435225</td>\n",
       "      <td>24.031599</td>\n",
       "      <td>24.031599</td>\n",
       "      <td>19.285501</td>\n",
       "      <td>24.855751</td>\n",
       "    </tr>\n",
       "  </tbody>\n",
       "</table>\n",
       "</div>"
      ],
      "text/plain": [
       "Price           Close    HL_PCT PCT_change       MA10       MA50 Volume_log  \\\n",
       "Ticker           AAPL                                                         \n",
       "Date                                                                          \n",
       "2015-01-02  24.261055  3.740971  -1.849356  24.261055  24.261055  19.175950   \n",
       "2015-01-05  23.577576  3.049410  -1.883831  23.919315  23.919315  19.365139   \n",
       "2015-01-06  23.579792  2.635049  -0.262811  23.806141  23.806141  19.388381   \n",
       "2015-01-07  23.910437  1.392111   0.513063  23.832215  23.832215  18.893328   \n",
       "2015-01-08  24.829138  3.083390   2.435225  24.031599  24.031599  19.285501   \n",
       "\n",
       "Price          Target  \n",
       "Ticker                 \n",
       "Date                   \n",
       "2015-01-02  23.577576  \n",
       "2015-01-05  23.579792  \n",
       "2015-01-06  23.910437  \n",
       "2015-01-07  24.829138  \n",
       "2015-01-08  24.855751  "
      ]
     },
     "metadata": {},
     "output_type": "display_data"
    }
   ],
   "source": [
    "feature_cols = ['Close', 'HL_PCT', 'PCT_change', 'MA10', 'MA50', 'Volume_log']\n",
    "\n",
    "\n",
    "df['Target'] = df['Close'].shift(-1)\n",
    "df.dropna(inplace=True)   # drop last row with no next-day target\n",
    "\n",
    "print(\"Dataset ready. Rows:\", len(df))\n",
    "display(df[feature_cols + ['Target']].head())"
   ]
  },
  {
   "cell_type": "markdown",
   "id": "d380de1c-de2e-4477-bce9-c6f6735ccddc",
   "metadata": {},
   "source": [
    "# Train/Test Split"
   ]
  },
  {
   "cell_type": "code",
   "execution_count": 14,
   "id": "991d6366-8ba3-433a-84db-3573ef812214",
   "metadata": {},
   "outputs": [
    {
     "name": "stdout",
     "output_type": "stream",
     "text": [
      "Train rows: 2011 | Test rows: 503\n"
     ]
    }
   ],
   "source": [
    "split_index = int(len(df) * 0.8)\n",
    "\n",
    "X = df[feature_cols].values\n",
    "y = df['Target'].values\n",
    "\n",
    "X_train = X[:split_index]\n",
    "X_test  = X[split_index:]\n",
    "y_train = y[:split_index]\n",
    "y_test  = y[split_index:]\n",
    "\n",
    "print(\"Train rows:\", len(X_train), \"| Test rows:\", len(X_test))"
   ]
  },
  {
   "cell_type": "markdown",
   "id": "bf8a71e2-2d84-41a9-8c01-6bab90950b07",
   "metadata": {},
   "source": [
    "# Linear Regression (Scaled → Trained → Evaluated)"
   ]
  },
  {
   "cell_type": "code",
   "execution_count": 29,
   "id": "bebec6b9-62f9-4ed1-8b8a-15c44cea7d72",
   "metadata": {},
   "outputs": [
    {
     "name": "stdout",
     "output_type": "stream",
     "text": [
      "📊 Linear Regression Model Performance:\n",
      "RMSE: 2.5508\n",
      "MAE: 1.8934\n",
      "R²: 0.9918\n",
      "Mean Absolute Percentage Error (MAPE): 1.02%\n",
      "✅ Model Accuracy (approx): 98.98%\n"
     ]
    }
   ],
   "source": [
    "from sklearn.linear_model import LinearRegression\n",
    "from sklearn.preprocessing import MinMaxScaler\n",
    "from sklearn.metrics import mean_squared_error, mean_absolute_error, r2_score\n",
    "import numpy as np\n",
    "\n",
    "# Convert LSTM 3D data (samples, timesteps, features) → 2D for Linear Regression\n",
    "X_train_lr = X_train.reshape(X_train.shape[0], X_train.shape[1])\n",
    "X_test_lr  = X_test.reshape(X_test.shape[0], X_test.shape[1])\n",
    "\n",
    "# Scale the data\n",
    "scaler_lr = MinMaxScaler()\n",
    "X_train_scaled = scaler_lr.fit_transform(X_train_lr)\n",
    "X_test_scaled  = scaler_lr.transform(X_test_lr)\n",
    "\n",
    "# Train Linear Regression model\n",
    "lr = LinearRegression()\n",
    "lr.fit(X_train_scaled, y_train)\n",
    "\n",
    "# Predict\n",
    "y_pred_lr = lr.predict(X_test_scaled)\n",
    "\n",
    "# Evaluate performance\n",
    "rmse_lr = np.sqrt(mean_squared_error(y_test, y_pred_lr))\n",
    "mae_lr  = mean_absolute_error(y_test, y_pred_lr)\n",
    "r2_lr   = r2_score(y_test, y_pred_lr)\n",
    "\n",
    "print(\"📊 Linear Regression Model Performance:\")\n",
    "print(f\"RMSE: {rmse_lr:.4f}\")\n",
    "print(f\"MAE: {mae_lr:.4f}\")\n",
    "print(f\"R²: {r2_lr:.4f}\")\n",
    "\n",
    "# Percentage Accuracy\n",
    "mape_lr = np.mean(np.abs((y_test - y_pred_lr) / y_test)) * 100\n",
    "accuracy_lr = 100 - mape_lr\n",
    "print(f\"Mean Absolute Percentage Error (MAPE): {mape_lr:.2f}%\")\n",
    "print(f\"✅ Model Accuracy (approx): {accuracy_lr:.2f}%\")\n"
   ]
  },
  {
   "cell_type": "markdown",
   "id": "7d8f8f23-dde5-4e40-86f4-971bd9edf4af",
   "metadata": {},
   "source": [
    "# Prepare data for LSTM"
   ]
  },
  {
   "cell_type": "code",
   "execution_count": 30,
   "id": "0fbf68c9-974b-44d9-99e6-fd20098bf294",
   "metadata": {},
   "outputs": [
    {
     "name": "stdout",
     "output_type": "stream",
     "text": [
      "X_train_seq shape: (1951, 60, 6)\n",
      "X_test_seq  shape: (443, 60, 6)\n"
     ]
    }
   ],
   "source": [
    "if not TF_AVAILABLE:\n",
    "    print(\"TensorFlow not available — skipping LSTM preparation.\")\n",
    "else:\n",
    "    seq_length = 60   # number of past days used to predict next day (reduce to 30 if data small)\n",
    "    \n",
    "    # Use DataFrame slices so we don't mix indices\n",
    "    train_vals = df[feature_cols].iloc[:split_index].values\n",
    "    test_vals  = df[feature_cols].iloc[split_index:].values\n",
    "\n",
    "    scaler_lstm = MinMaxScaler()\n",
    "    scaler_lstm.fit(train_vals)           # fit only on training features to avoid leakage\n",
    "\n",
    "    train_scaled = scaler_lstm.transform(train_vals)\n",
    "    test_scaled  = scaler_lstm.transform(test_vals)\n",
    "\n",
    "    close_idx = feature_cols.index('Close')   # which column is 'Close' in features\n",
    "\n",
    "    def create_sequences(arr, seq_len):\n",
    "        Xs, ys = [], []\n",
    "        for i in range(len(arr) - seq_len):\n",
    "            Xs.append(arr[i:i+seq_len])\n",
    "            ys.append(arr[i+seq_len, close_idx])  # predict scaled Close value\n",
    "        return np.array(Xs), np.array(ys)\n",
    "    \n",
    "    X_train_seq, y_train_seq = create_sequences(train_scaled, seq_length)\n",
    "    X_test_seq,  y_test_seq  = create_sequences(test_scaled, seq_length)\n",
    "\n",
    "    print(\"X_train_seq shape:\", X_train_seq.shape)\n",
    "    print(\"X_test_seq  shape:\", X_test_seq.shape)"
   ]
  },
  {
   "cell_type": "markdown",
   "id": "135591a5-1d6e-49b8-9b87-599e79295354",
   "metadata": {},
   "source": [
    "# Build & train LSTM"
   ]
  },
  {
   "cell_type": "code",
   "execution_count": 31,
   "id": "9a5d96b4-bc02-42da-8ff3-7ecda49a5fc6",
   "metadata": {},
   "outputs": [
    {
     "data": {
      "text/html": [
       "<pre style=\"white-space:pre;overflow-x:auto;line-height:normal;font-family:Menlo,'DejaVu Sans Mono',consolas,'Courier New',monospace\"><span style=\"font-weight: bold\">Model: \"sequential_1\"</span>\n",
       "</pre>\n"
      ],
      "text/plain": [
       "\u001b[1mModel: \"sequential_1\"\u001b[0m\n"
      ]
     },
     "metadata": {},
     "output_type": "display_data"
    },
    {
     "data": {
      "text/html": [
       "<pre style=\"white-space:pre;overflow-x:auto;line-height:normal;font-family:Menlo,'DejaVu Sans Mono',consolas,'Courier New',monospace\">┏━━━━━━━━━━━━━━━━━━━━━━━━━━━━━━━━━━━━━━┳━━━━━━━━━━━━━━━━━━━━━━━━━━━━━┳━━━━━━━━━━━━━━━━━┓\n",
       "┃<span style=\"font-weight: bold\"> Layer (type)                         </span>┃<span style=\"font-weight: bold\"> Output Shape                </span>┃<span style=\"font-weight: bold\">         Param # </span>┃\n",
       "┡━━━━━━━━━━━━━━━━━━━━━━━━━━━━━━━━━━━━━━╇━━━━━━━━━━━━━━━━━━━━━━━━━━━━━╇━━━━━━━━━━━━━━━━━┩\n",
       "│ lstm_2 (<span style=\"color: #0087ff; text-decoration-color: #0087ff\">LSTM</span>)                        │ (<span style=\"color: #00d7ff; text-decoration-color: #00d7ff\">None</span>, <span style=\"color: #00af00; text-decoration-color: #00af00\">60</span>, <span style=\"color: #00af00; text-decoration-color: #00af00\">50</span>)              │          <span style=\"color: #00af00; text-decoration-color: #00af00\">11,400</span> │\n",
       "├──────────────────────────────────────┼─────────────────────────────┼─────────────────┤\n",
       "│ dropout_2 (<span style=\"color: #0087ff; text-decoration-color: #0087ff\">Dropout</span>)                  │ (<span style=\"color: #00d7ff; text-decoration-color: #00d7ff\">None</span>, <span style=\"color: #00af00; text-decoration-color: #00af00\">60</span>, <span style=\"color: #00af00; text-decoration-color: #00af00\">50</span>)              │               <span style=\"color: #00af00; text-decoration-color: #00af00\">0</span> │\n",
       "├──────────────────────────────────────┼─────────────────────────────┼─────────────────┤\n",
       "│ lstm_3 (<span style=\"color: #0087ff; text-decoration-color: #0087ff\">LSTM</span>)                        │ (<span style=\"color: #00d7ff; text-decoration-color: #00d7ff\">None</span>, <span style=\"color: #00af00; text-decoration-color: #00af00\">50</span>)                  │          <span style=\"color: #00af00; text-decoration-color: #00af00\">20,200</span> │\n",
       "├──────────────────────────────────────┼─────────────────────────────┼─────────────────┤\n",
       "│ dropout_3 (<span style=\"color: #0087ff; text-decoration-color: #0087ff\">Dropout</span>)                  │ (<span style=\"color: #00d7ff; text-decoration-color: #00d7ff\">None</span>, <span style=\"color: #00af00; text-decoration-color: #00af00\">50</span>)                  │               <span style=\"color: #00af00; text-decoration-color: #00af00\">0</span> │\n",
       "├──────────────────────────────────────┼─────────────────────────────┼─────────────────┤\n",
       "│ dense_2 (<span style=\"color: #0087ff; text-decoration-color: #0087ff\">Dense</span>)                      │ (<span style=\"color: #00d7ff; text-decoration-color: #00d7ff\">None</span>, <span style=\"color: #00af00; text-decoration-color: #00af00\">25</span>)                  │           <span style=\"color: #00af00; text-decoration-color: #00af00\">1,275</span> │\n",
       "├──────────────────────────────────────┼─────────────────────────────┼─────────────────┤\n",
       "│ dense_3 (<span style=\"color: #0087ff; text-decoration-color: #0087ff\">Dense</span>)                      │ (<span style=\"color: #00d7ff; text-decoration-color: #00d7ff\">None</span>, <span style=\"color: #00af00; text-decoration-color: #00af00\">1</span>)                   │              <span style=\"color: #00af00; text-decoration-color: #00af00\">26</span> │\n",
       "└──────────────────────────────────────┴─────────────────────────────┴─────────────────┘\n",
       "</pre>\n"
      ],
      "text/plain": [
       "┏━━━━━━━━━━━━━━━━━━━━━━━━━━━━━━━━━━━━━━┳━━━━━━━━━━━━━━━━━━━━━━━━━━━━━┳━━━━━━━━━━━━━━━━━┓\n",
       "┃\u001b[1m \u001b[0m\u001b[1mLayer (type)                        \u001b[0m\u001b[1m \u001b[0m┃\u001b[1m \u001b[0m\u001b[1mOutput Shape               \u001b[0m\u001b[1m \u001b[0m┃\u001b[1m \u001b[0m\u001b[1m        Param #\u001b[0m\u001b[1m \u001b[0m┃\n",
       "┡━━━━━━━━━━━━━━━━━━━━━━━━━━━━━━━━━━━━━━╇━━━━━━━━━━━━━━━━━━━━━━━━━━━━━╇━━━━━━━━━━━━━━━━━┩\n",
       "│ lstm_2 (\u001b[38;5;33mLSTM\u001b[0m)                        │ (\u001b[38;5;45mNone\u001b[0m, \u001b[38;5;34m60\u001b[0m, \u001b[38;5;34m50\u001b[0m)              │          \u001b[38;5;34m11,400\u001b[0m │\n",
       "├──────────────────────────────────────┼─────────────────────────────┼─────────────────┤\n",
       "│ dropout_2 (\u001b[38;5;33mDropout\u001b[0m)                  │ (\u001b[38;5;45mNone\u001b[0m, \u001b[38;5;34m60\u001b[0m, \u001b[38;5;34m50\u001b[0m)              │               \u001b[38;5;34m0\u001b[0m │\n",
       "├──────────────────────────────────────┼─────────────────────────────┼─────────────────┤\n",
       "│ lstm_3 (\u001b[38;5;33mLSTM\u001b[0m)                        │ (\u001b[38;5;45mNone\u001b[0m, \u001b[38;5;34m50\u001b[0m)                  │          \u001b[38;5;34m20,200\u001b[0m │\n",
       "├──────────────────────────────────────┼─────────────────────────────┼─────────────────┤\n",
       "│ dropout_3 (\u001b[38;5;33mDropout\u001b[0m)                  │ (\u001b[38;5;45mNone\u001b[0m, \u001b[38;5;34m50\u001b[0m)                  │               \u001b[38;5;34m0\u001b[0m │\n",
       "├──────────────────────────────────────┼─────────────────────────────┼─────────────────┤\n",
       "│ dense_2 (\u001b[38;5;33mDense\u001b[0m)                      │ (\u001b[38;5;45mNone\u001b[0m, \u001b[38;5;34m25\u001b[0m)                  │           \u001b[38;5;34m1,275\u001b[0m │\n",
       "├──────────────────────────────────────┼─────────────────────────────┼─────────────────┤\n",
       "│ dense_3 (\u001b[38;5;33mDense\u001b[0m)                      │ (\u001b[38;5;45mNone\u001b[0m, \u001b[38;5;34m1\u001b[0m)                   │              \u001b[38;5;34m26\u001b[0m │\n",
       "└──────────────────────────────────────┴─────────────────────────────┴─────────────────┘\n"
      ]
     },
     "metadata": {},
     "output_type": "display_data"
    },
    {
     "data": {
      "text/html": [
       "<pre style=\"white-space:pre;overflow-x:auto;line-height:normal;font-family:Menlo,'DejaVu Sans Mono',consolas,'Courier New',monospace\"><span style=\"font-weight: bold\"> Total params: </span><span style=\"color: #00af00; text-decoration-color: #00af00\">32,901</span> (128.52 KB)\n",
       "</pre>\n"
      ],
      "text/plain": [
       "\u001b[1m Total params: \u001b[0m\u001b[38;5;34m32,901\u001b[0m (128.52 KB)\n"
      ]
     },
     "metadata": {},
     "output_type": "display_data"
    },
    {
     "data": {
      "text/html": [
       "<pre style=\"white-space:pre;overflow-x:auto;line-height:normal;font-family:Menlo,'DejaVu Sans Mono',consolas,'Courier New',monospace\"><span style=\"font-weight: bold\"> Trainable params: </span><span style=\"color: #00af00; text-decoration-color: #00af00\">32,901</span> (128.52 KB)\n",
       "</pre>\n"
      ],
      "text/plain": [
       "\u001b[1m Trainable params: \u001b[0m\u001b[38;5;34m32,901\u001b[0m (128.52 KB)\n"
      ]
     },
     "metadata": {},
     "output_type": "display_data"
    },
    {
     "data": {
      "text/html": [
       "<pre style=\"white-space:pre;overflow-x:auto;line-height:normal;font-family:Menlo,'DejaVu Sans Mono',consolas,'Courier New',monospace\"><span style=\"font-weight: bold\"> Non-trainable params: </span><span style=\"color: #00af00; text-decoration-color: #00af00\">0</span> (0.00 B)\n",
       "</pre>\n"
      ],
      "text/plain": [
       "\u001b[1m Non-trainable params: \u001b[0m\u001b[38;5;34m0\u001b[0m (0.00 B)\n"
      ]
     },
     "metadata": {},
     "output_type": "display_data"
    },
    {
     "name": "stdout",
     "output_type": "stream",
     "text": [
      "Epoch 1/20\n",
      "\u001b[1m61/61\u001b[0m \u001b[32m━━━━━━━━━━━━━━━━━━━━\u001b[0m\u001b[37m\u001b[0m \u001b[1m15s\u001b[0m 104ms/step - loss: 0.0119 - val_loss: 0.0097\n",
      "Epoch 2/20\n",
      "\u001b[1m61/61\u001b[0m \u001b[32m━━━━━━━━━━━━━━━━━━━━\u001b[0m\u001b[37m\u001b[0m \u001b[1m10s\u001b[0m 91ms/step - loss: 0.0032 - val_loss: 0.0156\n",
      "Epoch 3/20\n",
      "\u001b[1m61/61\u001b[0m \u001b[32m━━━━━━━━━━━━━━━━━━━━\u001b[0m\u001b[37m\u001b[0m \u001b[1m6s\u001b[0m 98ms/step - loss: 0.0026 - val_loss: 0.0098\n",
      "Epoch 4/20\n",
      "\u001b[1m61/61\u001b[0m \u001b[32m━━━━━━━━━━━━━━━━━━━━\u001b[0m\u001b[37m\u001b[0m \u001b[1m10s\u001b[0m 91ms/step - loss: 0.0021 - val_loss: 0.0034\n",
      "Epoch 5/20\n",
      "\u001b[1m61/61\u001b[0m \u001b[32m━━━━━━━━━━━━━━━━━━━━\u001b[0m\u001b[37m\u001b[0m \u001b[1m10s\u001b[0m 84ms/step - loss: 0.0022 - val_loss: 0.0072\n",
      "Epoch 6/20\n",
      "\u001b[1m61/61\u001b[0m \u001b[32m━━━━━━━━━━━━━━━━━━━━\u001b[0m\u001b[37m\u001b[0m \u001b[1m5s\u001b[0m 82ms/step - loss: 0.0021 - val_loss: 0.0045\n",
      "Epoch 7/20\n",
      "\u001b[1m61/61\u001b[0m \u001b[32m━━━━━━━━━━━━━━━━━━━━\u001b[0m\u001b[37m\u001b[0m \u001b[1m6s\u001b[0m 95ms/step - loss: 0.0019 - val_loss: 0.0069\n",
      "Epoch 8/20\n",
      "\u001b[1m61/61\u001b[0m \u001b[32m━━━━━━━━━━━━━━━━━━━━\u001b[0m\u001b[37m\u001b[0m \u001b[1m6s\u001b[0m 92ms/step - loss: 0.0017 - val_loss: 0.0071\n",
      "Epoch 9/20\n",
      "\u001b[1m61/61\u001b[0m \u001b[32m━━━━━━━━━━━━━━━━━━━━\u001b[0m\u001b[37m\u001b[0m \u001b[1m10s\u001b[0m 95ms/step - loss: 0.0017 - val_loss: 0.0068\n"
     ]
    },
    {
     "data": {
      "image/png": "[encoded data removed]",
      "text/plain": [
       "<Figure size 800x400 with 1 Axes>"
      ]
     },
     "metadata": {},
     "output_type": "display_data"
    }
   ],
   "source": [
    "if not TF_AVAILABLE:\n",
    "    print(\"TensorFlow not available — skipping LSTM training. Install TensorFlow and re-run Cell 2/Cell 9.\")\n",
    "else:\n",
    "    n_features = X_train_seq.shape[2]\n",
    "    model = Sequential([\n",
    "        LSTM(50, return_sequences=True, input_shape=(seq_length, n_features)),\n",
    "        Dropout(0.2),\n",
    "        LSTM(50, return_sequences=False),\n",
    "        Dropout(0.2),\n",
    "        Dense(25),\n",
    "        Dense(1)\n",
    "    ])\n",
    "    model.compile(optimizer='adam', loss='mean_squared_error')\n",
    "    model.summary()\n",
    "\n",
    "    early_stop = EarlyStopping(monitor='val_loss', patience=5, restore_best_weights=True)\n",
    "\n",
    "    history = model.fit(\n",
    "        X_train_seq, y_train_seq,\n",
    "        epochs=20,\n",
    "        batch_size=32,\n",
    "        validation_data=(X_test_seq, y_test_seq),\n",
    "        callbacks=[early_stop],\n",
    "        verbose=1\n",
    "    )\n",
    "\n",
    "    # Plot training history\n",
    "    plt.figure(figsize=(8,4))\n",
    "    plt.plot(history.history['loss'], label='train_loss')\n",
    "    plt.plot(history.history['val_loss'], label='val_loss')\n",
    "    plt.legend(); plt.title('LSTM training loss'); plt.show()"
   ]
  },
  {
   "cell_type": "markdown",
   "id": "4f3ed592-ed33-4b92-905c-b956ab0ef536",
   "metadata": {},
   "source": [
    "# Evaluate LSTM"
   ]
  },
  {
   "cell_type": "code",
   "execution_count": 33,
   "id": "6e9318f2-5f8a-4506-8e64-bb5fbc65325d",
   "metadata": {},
   "outputs": [
    {
     "name": "stdout",
     "output_type": "stream",
     "text": [
      "\u001b[1m14/14\u001b[0m \u001b[32m━━━━━━━━━━━━━━━━━━━━\u001b[0m\u001b[37m\u001b[0m \u001b[1m1s\u001b[0m 32ms/step\n",
      "LSTM → RMSE: 9.2143, MAE: 7.5821, R²: 0.8561\n"
     ]
    },
    {
     "data": {
      "image/png": "[encoded data removed]",
      "text/plain": [
       "<Figure size 1200x500 with 1 Axes>"
      ]
     },
     "metadata": {},
     "output_type": "display_data"
    }
   ],
   "source": [
    "if not TF_AVAILABLE:\n",
    "    print(\"TensorFlow not available — skip LSTM evaluation.\")\n",
    "else:\n",
    "    # helper: invert the scaled close values back to original price\n",
    "    def invert_close(scaled_vals, scaler, close_index):\n",
    "        scaled_vals = np.array(scaled_vals).reshape(-1,1)\n",
    "        tmp = np.zeros((len(scaled_vals), scaler.n_features_in_))\n",
    "        tmp[:, close_index] = scaled_vals[:, 0]\n",
    "        inv = scaler.inverse_transform(tmp)[:, close_index]\n",
    "        return inv\n",
    "\n",
    "    y_pred_scaled = model.predict(X_test_seq).reshape(-1)\n",
    "    y_pred = invert_close(y_pred_scaled, scaler_lstm, close_idx)\n",
    "    y_true = invert_close(y_test_seq.reshape(-1,1), scaler_lstm, close_idx)\n",
    "\n",
    "    rmse_lstm = np.sqrt(mean_squared_error(y_true, y_pred))\n",
    "    mae_lstm  = mean_absolute_error(y_true, y_pred)\n",
    "    r2_lstm   = r2_score(y_true, y_pred)\n",
    "\n",
    "    print(f\"LSTM → RMSE: {rmse_lstm:.4f}, MAE: {mae_lstm:.4f}, R²: {r2_lstm:.4f}\")\n",
    "\n",
    "    # plot\n",
    "    plot_start = split_index + seq_length\n",
    "    plot_dates = df.index[plot_start: plot_start + len(y_pred)]\n",
    "    plt.figure(figsize=(12,5))\n",
    "    plt.plot(plot_dates, y_true, label='Actual Close')\n",
    "    plt.plot(plot_dates, y_pred, label='Predicted Close (LSTM)')\n",
    "    plt.legend(); plt.title('LSTM — Actual vs Predicted'); plt.xlabel('Date'); plt.ylabel('Price')\n",
    "    plt.show()"
   ]
  }
 ],
 "metadata": {
  "kernelspec": {
   "display_name": "Python 3 (ipykernel)",
   "language": "python",
   "name": "python3"
  },
  "language_info": {
   "codemirror_mode": {
    "name": "ipython",
    "version": 3
   },
   "file_extension": ".py",
   "mimetype": "text/x-python",
   "name": "python",
   "nbconvert_exporter": "python",
   "pygments_lexer": "ipython3",
   "version": "3.13.7"
  }
 },
 "nbformat": 4,
 "nbformat_minor": 5
}
